{
  "nbformat": 4,
  "nbformat_minor": 0,
  "metadata": {
    "colab": {
      "name": "Assignment-0",
      "provenance": [],
      "collapsed_sections": [],
      "include_colab_link": true
    },
    "kernelspec": {
      "name": "python3",
      "display_name": "Python 3"
    },
    "language_info": {
      "name": "python"
    }
  },
  "cells": [
    {
      "cell_type": "markdown",
      "metadata": {
        "id": "view-in-github",
        "colab_type": "text"
      },
      "source": [
        "<a href=\"https://colab.research.google.com/github/sunx14/ZJYgrp.github.io/blob/main/Assignment_0.ipynb\" target=\"_parent\"><img src=\"https://colab.research.google.com/assets/colab-badge.svg\" alt=\"Open In Colab\"/></a>"
      ]
    },
    {
      "cell_type": "markdown",
      "source": [
        "In this assignment we are going to work with data that was downloaded using using the [yfinance](https://pypi.org/project/yfinance/) library. It containst daily closing prices of all symbols."
      ],
      "metadata": {
        "id": "XZ8EGoj3LAv2"
      }
    },
    {
      "cell_type": "code",
      "source": [
        "from multiprocessing   import Pool\n",
        "from tqdm import *\n",
        "import pandas as pd"
      ],
      "metadata": {
        "id": "Wh2tTkoMM6sg"
      },
      "execution_count": 1,
      "outputs": []
    },
    {
      "cell_type": "code",
      "source": [
        "#Question 1: Explain what the code below is trying to do. Describe each step.\n",
        "data = pd.read_csv(\"http://www.nasdaqtrader.com/dynamic/SymDir/nasdaqtraded.txt\", sep='|')\n",
        "data_clean = data[data['Test Issue'] == 'N']\n",
        "symbols = set(data_clean['NASDAQ Symbol'].tolist())\n",
        "data = pd.read_csv(\"http://www.nasdaqtrader.com/dynamic/SymDir/otherlisted.txt\", sep='|')\n",
        "data_clean = data[data['Test Issue'] == 'N']\n",
        "symbols = set(data_clean['NASDAQ Symbol'].tolist())\n"
      ],
      "metadata": {
        "id": "5HN0Mhq4LFe2"
      },
      "execution_count": 2,
      "outputs": []
    },
    {
      "cell_type": "code",
      "source": [
        "#Describe your answer below.\n",
        "#Answer 1: "
      ],
      "metadata": {
        "id": "MYY6pkbnMUvO"
      },
      "execution_count": 3,
      "outputs": []
    },
    {
      "cell_type": "code",
      "source": [
        "!wget  -O stocks.parquet https://www.dropbox.com/s/gzpi950gfdz9dsk/stocks.parquet?dl=1 # lets download the data"
      ],
      "metadata": {
        "id": "5b3j282aZMIO",
        "outputId": "92981423-e358-436f-e86f-0c48beae2a9d",
        "colab": {
          "base_uri": "https://localhost:8080/"
        }
      },
      "execution_count": 4,
      "outputs": [
        {
          "output_type": "stream",
          "name": "stdout",
          "text": [
            "--2022-01-26 08:24:01--  https://www.dropbox.com/s/gzpi950gfdz9dsk/stocks.parquet?dl=1\n",
            "Resolving www.dropbox.com (www.dropbox.com)... 162.125.81.18, 2620:100:6030:18::a27d:5012\n",
            "Connecting to www.dropbox.com (www.dropbox.com)|162.125.81.18|:443... connected.\n",
            "HTTP request sent, awaiting response... 301 Moved Permanently\n",
            "Location: /s/dl/gzpi950gfdz9dsk/stocks.parquet [following]\n",
            "--2022-01-26 08:24:01--  https://www.dropbox.com/s/dl/gzpi950gfdz9dsk/stocks.parquet\n",
            "Reusing existing connection to www.dropbox.com:443.\n",
            "HTTP request sent, awaiting response... 302 Found\n",
            "Location: https://uc8c111ac39b640a807105c64b39.dl.dropboxusercontent.com/cd/0/get/BeiUtkIzyZ4BekVvsysdZWANz7kKNHe9y6AEZBLtfidlAw2S8bcdwmUtsfOuSstAT1H3VsnKAl7zHfz6aU6IjEFfLd0KhbdF7AbZ8GjCb8osazVE0IGx2z1XIwWfGFpXQjSZdLFJnLQGPuJSINyyjrHa/file?dl=1# [following]\n",
            "--2022-01-26 08:24:02--  https://uc8c111ac39b640a807105c64b39.dl.dropboxusercontent.com/cd/0/get/BeiUtkIzyZ4BekVvsysdZWANz7kKNHe9y6AEZBLtfidlAw2S8bcdwmUtsfOuSstAT1H3VsnKAl7zHfz6aU6IjEFfLd0KhbdF7AbZ8GjCb8osazVE0IGx2z1XIwWfGFpXQjSZdLFJnLQGPuJSINyyjrHa/file?dl=1\n",
            "Resolving uc8c111ac39b640a807105c64b39.dl.dropboxusercontent.com (uc8c111ac39b640a807105c64b39.dl.dropboxusercontent.com)... 162.125.81.15, 2620:100:6031:15::a27d:510f\n",
            "Connecting to uc8c111ac39b640a807105c64b39.dl.dropboxusercontent.com (uc8c111ac39b640a807105c64b39.dl.dropboxusercontent.com)|162.125.81.15|:443... connected.\n",
            "HTTP request sent, awaiting response... 200 OK\n",
            "Length: 678640589 (647M) [application/binary]\n",
            "Saving to: ‘stocks.parquet’\n",
            "\n",
            "stocks.parquet      100%[===================>] 647.20M  15.3MB/s    in 50s     \n",
            "\n",
            "2022-01-26 08:24:52 (13.1 MB/s) - ‘stocks.parquet’ saved [678640589/678640589]\n",
            "\n"
          ]
        }
      ]
    },
    {
      "cell_type": "code",
      "source": [
        "!ls stock_closing_prices.parquet -l #downloaded file"
      ],
      "metadata": {
        "colab": {
          "base_uri": "https://localhost:8080/"
        },
        "id": "jPZoUqKNZhRX",
        "outputId": "d0f1bbfd-9342-4d74-d4ad-bd5d268a7e75"
      },
      "execution_count": 5,
      "outputs": [
        {
          "output_type": "stream",
          "name": "stdout",
          "text": [
            "ls: cannot access 'stock_closing_prices.parquet': No such file or directory\n"
          ]
        }
      ]
    },
    {
      "cell_type": "code",
      "source": [
        "#Bonus question 1 - find on internet and write the command that will download the all data from the symbols list. "
      ],
      "metadata": {
        "id": "m9ZaZDOgNxhF"
      },
      "execution_count": 6,
      "outputs": []
    },
    {
      "cell_type": "code",
      "source": [
        "data=pd.read_parquet('stocks.parquet')"
      ],
      "metadata": {
        "id": "AldxdSqFZ1mC"
      },
      "execution_count": 7,
      "outputs": []
    },
    {
      "cell_type": "code",
      "source": [
        "data.head(1) # Below shows a sample of the data.\n",
        "#date - describes the day of the price\n",
        "#open - the price at which stock opened\n",
        "#high - what was the intraday high\n",
        "#low - what is the intraday low\n",
        "#close - what was the closing price\n",
        "#adj_close - the price calculated after adjusting for all future stock splits\n",
        "#dividends - what are the dividends that were paid on the day.\n",
        "#stock_splits - if the stock was split\n",
        "#symbol the symbol of the stock\n",
        "\n",
        "df = data\n",
        "df = df.set_index(['date'])\n",
        "getY = df.loc['2021-01-01']\n",
        "Y = getY.iloc[4]"
      ],
      "metadata": {
        "id": "JLriTcuObF3k"
      },
      "execution_count": 8,
      "outputs": []
    },
    {
      "cell_type": "code",
      "source": [
        "# Question 2 find top 20 best performer stocks - i.e. the stocks that provided the best return.\n",
        "# if the stocks adj_close on the earliest date was X and the price on the 2021-01-01 is y and the number of days elapsed between these dates is Z.\n",
        "# Then return = Y/X/Z\n",
        "# Sort the stocks by this return and find the top 20\n",
        "\n",
        "df2 = pd.DataFrame(data, columns = ['date', 'symbol', 'adj_close', 'close', 'day'])\n",
        "df2 = df2.set_index(['symbol'])\n",
        "df3 = df2.loc['EHC']\n",
        "X = df3.iloc[0, 1]\n",
        "Z = df['day'].sum()\n",
        "returnValue = Y/X/Z\n",
        "print(returnValue)"
      ],
      "metadata": {
        "id": "c3vJMi_8bAwC",
        "outputId": "187e7484-1e54-4616-e53f-16a47a56afd3",
        "colab": {
          "base_uri": "https://localhost:8080/"
        }
      },
      "execution_count": 9,
      "outputs": [
        {
          "output_type": "stream",
          "name": "stdout",
          "text": [
            "nan\n"
          ]
        }
      ]
    },
    {
      "cell_type": "code",
      "source": [
        "#Question 3: Create a copy of this notebook called assignment-aws and follow the instructions in readme to run the notebook on AWS compute instance.\n",
        "# Compare performance of running natively on colab and colab+AWS\n"
      ],
      "metadata": {
        "id": "c1jLuH32dDhR"
      },
      "execution_count": 10,
      "outputs": []
    }
  ]
}